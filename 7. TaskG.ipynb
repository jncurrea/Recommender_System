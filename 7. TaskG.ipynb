{
 "cells": [
  {
   "cell_type": "code",
   "execution_count": 68,
   "metadata": {},
   "outputs": [],
   "source": [
    "import pandas as pd"
   ]
  },
  {
   "cell_type": "code",
   "execution_count": 62,
   "metadata": {},
   "outputs": [],
   "source": [
    "# Input File Names\n",
    "inputfile = 'CDE.bagofwords.csv'\n",
    "inputfile2 = 'translated_messages.csv'\n",
    "\n",
    "# Translated Column Messages\n",
    "messagecolumn = 'Product Review'\n",
    "ratingcolumn = 'rating'\n",
    "\n",
    "# Import Data\n",
    "data = pd.read_csv(inputfile)\n",
    "data2 = pd.read_csv(inputfile2)\n",
    "\n",
    "# Turning Sentiment into Floats\n",
    "sentiment = []\n",
    "for i in data['Sentiment Scores']:\n",
    "    try:\n",
    "            sentiment.append(float(i))\n",
    "    except Exception as e:\n",
    "            sentiment.append(0)\n",
    "data['Sentiment Scores'] = sentiment\n",
    "\n",
    "# Find Top 3 Highest Rated Beers\n",
    "data['Ratings'] = data2[ratingcolumn]\n",
    "highest_rated = data[['Product Name', 'Evaluation Score', 'Cosine Similarity TFIDF', 'Sentiment Scores', 'Ratings']].groupby('Product Name').mean(['Evaluation Score','Ratings']).sort_values('Ratings', ascending=False)[0:3]\n",
    "recommendations = data[['Product Name', 'Evaluation Score', 'Cosine Similarity TFIDF', 'Sentiment Scores', 'Ratings']].groupby('Product Name').mean(['Evaluation Score','Ratings']).sort_values('Evaluation Score', ascending=False)[0:3]"
   ]
  },
  {
   "cell_type": "code",
   "execution_count": 67,
   "metadata": {},
   "outputs": [
    {
     "name": "stdout",
     "output_type": "stream",
     "text": [
      "Based on ratings alone:\n",
      "                                                    Evaluation Score  Cosine Similarity TFIDF  Sentiment Scores   Ratings\n",
      "Product Name                                                                                                             \n",
      "Toppling Goliath Kentucky Brunch🇺🇸Stout - Imper...          0.192930                 0.023483          0.741436  4.563536\n",
      "Cigar City Pilot Series Miami Madness🇺🇸Berliner...          0.189680                 0.006743          0.842857  4.561905\n",
      "Side Project Beer : Barrel : Time - 2018🇺🇸Stout...          0.186155                 0.015031          0.741304  4.560870\n",
      "\n",
      "\n",
      "Based on bag of words similarity and sentiment:\n",
      "                                                    Evaluation Score  Cosine Similarity TFIDF  Sentiment Scores   Ratings\n",
      "Product Name                                                                                                             \n",
      "Superstition Grand Cru Berry - F.O. Barrel Aged...          0.202101                 0.034167          0.747674  4.439535\n",
      "B. Nektar Ken Schramm Signature Series - The He...          0.200601                 0.024627          0.809000  4.548000\n",
      "Toppling Goliath SR-71 Blackbird (2015 Bottling...          0.198969                 0.037700          0.688090  4.355056\n"
     ]
    }
   ],
   "source": [
    "# Compare \n",
    "pd.set_option('display.expand_frame_repr', False)  # Do not wrap the output\n",
    "print(\"Based on ratings alone:\")\n",
    "print(highest_rated)\n",
    "print(\"\\n\\nBased on bag of words similarity and sentiment:\")\n",
    "print(recommendations)"
   ]
  },
  {
   "cell_type": "markdown",
   "metadata": {},
   "source": [
    "### Results\n",
    "The results would not satisfy the user because these beers do not possess the attributes the consumer is looking for. This is reflected in the higher rated beers having lower evaluation scores which combines sentiment and cosine similarity. In addition, the recommended beers still have high ratings compared to the highest rated, and so the quality of the beer is surely still acceptable and more fitting to the user's taste. "
   ]
  }
 ],
 "metadata": {
  "kernelspec": {
   "display_name": "base",
   "language": "python",
   "name": "python3"
  },
  "language_info": {
   "codemirror_mode": {
    "name": "ipython",
    "version": 3
   },
   "file_extension": ".py",
   "mimetype": "text/x-python",
   "name": "python",
   "nbconvert_exporter": "python",
   "pygments_lexer": "ipython3",
   "version": "3.12.2"
  }
 },
 "nbformat": 4,
 "nbformat_minor": 2
}
