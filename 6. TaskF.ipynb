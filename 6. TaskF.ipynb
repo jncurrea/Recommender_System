{
 "cells": [
  {
   "cell_type": "code",
   "execution_count": 43,
   "metadata": {},
   "outputs": [],
   "source": [
    "import pandas as pd \n",
    "import spacy\n",
    "nlp = spacy.load('en_core_web_md')"
   ]
  },
  {
   "cell_type": "code",
   "execution_count": null,
   "metadata": {},
   "outputs": [],
   "source": [
    "# Input File Name\n",
    "inputfile = 'CDE.bagofwords.csv'\n",
    "\n",
    "# Output File Name\n",
    "outputfile = 'CDE.bagofwords.csv'\n",
    "\n",
    "# Translated Column Messages\n",
    "messagecolumn = 'Product Review'\n",
    "\n",
    "# Import Data\n",
    "data = pd.read_csv(inputfile)\n",
    "\n",
    "# User Attributes\n",
    "userattributes = ['thick', 'rich', 'bodied']"
   ]
  },
  {
   "cell_type": "code",
   "execution_count": 47,
   "metadata": {},
   "outputs": [],
   "source": [
    "# Joining the Attributes\n",
    "text1 = ' '.join(userattributes)\n",
    "doc1 = nlp(text1)\n",
    "\n",
    "# Initializing the Lists\n",
    "spacy_scores = []\n",
    "\n",
    "# Calculating Similarity\n",
    "for text2 in data[messagecolumn]:\n",
    "    doc2 = nlp(text2)\n",
    "    spacy_scores.append(doc1.similarity(doc2))\n",
    "\n",
    "# Saving Results to DataFrame\n",
    "data['Spacy Similarity'] = spacy_scores\n",
    "\n",
    "# Outputting CSV\n",
    "data.to_csv(outputfile, index = False)\n",
    "\n",
    "# Inputting Recommendations\n",
    "recommendations = pd.read_csv(\"E.beer_recommendations.csv\")\n",
    "recommendation = recommendations['Product Name'][0:3].values.tolist()"
   ]
  },
  {
   "cell_type": "code",
   "execution_count": 80,
   "metadata": {},
   "outputs": [],
   "source": [
    "# Percent of Each Beer That Contains the Attributes\n",
    "percent_TFIDF = []\n",
    "percent_spacy = []\n",
    "\n",
    "for name in recommendation:\n",
    "    total_count = int(data[data['Product Name'] == name]['Product Name'].count())\n",
    "    non_zero_TFIDF = int((data[data['Product Name'] == name]['Cosine Similarity TFIDF'] != 0).sum())\n",
    "    non_zero_spacy = int((data[data['Product Name'] == name]['Spacy Similarity'] != 0).sum())\n",
    "    percent_TFIDF.append((non_zero_TFIDF / total_count) * 100)\n",
    "    percent_spacy.append((non_zero_spacy / total_count) * 100)"
   ]
  },
  {
   "cell_type": "code",
   "execution_count": 82,
   "metadata": {},
   "outputs": [
    {
     "data": {
      "text/html": [
       "<div>\n",
       "<style scoped>\n",
       "    .dataframe tbody tr th:only-of-type {\n",
       "        vertical-align: middle;\n",
       "    }\n",
       "\n",
       "    .dataframe tbody tr th {\n",
       "        vertical-align: top;\n",
       "    }\n",
       "\n",
       "    .dataframe thead th {\n",
       "        text-align: right;\n",
       "    }\n",
       "</style>\n",
       "<table border=\"1\" class=\"dataframe\">\n",
       "  <thead>\n",
       "    <tr style=\"text-align: right;\">\n",
       "      <th></th>\n",
       "      <th>Product Name</th>\n",
       "      <th>Bag of Words Similarity</th>\n",
       "      <th>Vector Similarity</th>\n",
       "    </tr>\n",
       "  </thead>\n",
       "  <tbody>\n",
       "    <tr>\n",
       "      <th>0</th>\n",
       "      <td>Superstition Grand Cru Berry - F.O. Barrel Age...</td>\n",
       "      <td>27.906977</td>\n",
       "      <td>100.0</td>\n",
       "    </tr>\n",
       "    <tr>\n",
       "      <th>1</th>\n",
       "      <td>B. Nektar Ken Schramm Signature Series - The H...</td>\n",
       "      <td>28.000000</td>\n",
       "      <td>100.0</td>\n",
       "    </tr>\n",
       "    <tr>\n",
       "      <th>2</th>\n",
       "      <td>Toppling Goliath SR-71 Blackbird (2015 Bottlin...</td>\n",
       "      <td>42.696629</td>\n",
       "      <td>100.0</td>\n",
       "    </tr>\n",
       "  </tbody>\n",
       "</table>\n",
       "</div>"
      ],
      "text/plain": [
       "                                        Product Name  Bag of Words Similarity  \\\n",
       "0  Superstition Grand Cru Berry - F.O. Barrel Age...                27.906977   \n",
       "1  B. Nektar Ken Schramm Signature Series - The H...                28.000000   \n",
       "2  Toppling Goliath SR-71 Blackbird (2015 Bottlin...                42.696629   \n",
       "\n",
       "   Vector Similarity  \n",
       "0              100.0  \n",
       "1              100.0  \n",
       "2              100.0  "
      ]
     },
     "execution_count": 82,
     "metadata": {},
     "output_type": "execute_result"
    }
   ],
   "source": [
    "# Comparing Results \n",
    "comparison = pd.DataFrame()\n",
    "comparison['Product Name'] = recommendation\n",
    "comparison['Bag of Words Similarity'] = percent_TFIDF\n",
    "comparison['Vector Similarity'] = percent_spacy\n",
    "comparison"
   ]
  },
  {
   "cell_type": "code",
   "execution_count": 84,
   "metadata": {},
   "outputs": [],
   "source": [
    "# Finding New Evaluation Scores Using Spacy\n",
    "# Calculate Evaluation Score Function\n",
    "def evaluation(cosine_sim, sentiment):\n",
    "    try:\n",
    "        norm_sentiment = (float(sentiment) + 1) / 2\n",
    "        return ((cosine_sim * 0.8) + (norm_sentiment * 0.2))\n",
    "    except Exception as e:\n",
    "        return(0)\n",
    "# Import Data\n",
    "cosine_sim = data['Spacy Similarity']\n",
    "sentiment = data['Sentiment Scores']\n",
    "\n",
    "# Calculation Evaluation Score\n",
    "evaluation_list = []\n",
    "for i in range(len(data)):\n",
    "    evaluation_list.append(evaluation(cosine_sim[i], sentiment[i]))\n",
    "\n",
    "# Save Evaluation Score \n",
    "data['Spacy Evaluation Score'] = evaluation_list\n",
    "\n",
    "# Aggregate Evaluation Scores per Beer\n",
    "beers = data['Product Name'].drop_duplicates()\n",
    "beer_score = data[['Product Name', 'Spacy Evaluation Score']].groupby('Product Name').mean('Spacy Evaluation Score')\n",
    "beer_score = beer_score.sort_values('Spacy Evaluation Score', ascending = False)\n",
    "\n",
    "# Output to CSV\n",
    "data.to_csv(outputfile, index = False)\n",
    "\n",
    "beer_score.to_csv('F.new_recommendations.csv')"
   ]
  },
  {
   "cell_type": "code",
   "execution_count": 85,
   "metadata": {},
   "outputs": [
    {
     "data": {
      "text/html": [
       "<div>\n",
       "<style scoped>\n",
       "    .dataframe tbody tr th:only-of-type {\n",
       "        vertical-align: middle;\n",
       "    }\n",
       "\n",
       "    .dataframe tbody tr th {\n",
       "        vertical-align: top;\n",
       "    }\n",
       "\n",
       "    .dataframe thead th {\n",
       "        text-align: right;\n",
       "    }\n",
       "</style>\n",
       "<table border=\"1\" class=\"dataframe\">\n",
       "  <thead>\n",
       "    <tr style=\"text-align: right;\">\n",
       "      <th></th>\n",
       "      <th>Product Name</th>\n",
       "    </tr>\n",
       "  </thead>\n",
       "  <tbody>\n",
       "    <tr>\n",
       "      <th>0</th>\n",
       "      <td>Anchorage A Deal With The Devil - Double Oaked...</td>\n",
       "    </tr>\n",
       "    <tr>\n",
       "      <th>1</th>\n",
       "      <td>Sahtipaja MeadMe Batch #2 - Bourbon Vanilla🇸🇪M...</td>\n",
       "    </tr>\n",
       "    <tr>\n",
       "      <th>2</th>\n",
       "      <td>Superstition Grand Cru Berry - F.O. Barrel Age...</td>\n",
       "    </tr>\n",
       "  </tbody>\n",
       "</table>\n",
       "</div>"
      ],
      "text/plain": [
       "                                        Product Name\n",
       "0  Anchorage A Deal With The Devil - Double Oaked...\n",
       "1  Sahtipaja MeadMe Batch #2 - Bourbon Vanilla🇸🇪M...\n",
       "2  Superstition Grand Cru Berry - F.O. Barrel Age..."
      ]
     },
     "execution_count": 85,
     "metadata": {},
     "output_type": "execute_result"
    }
   ],
   "source": [
    "# New Recommendations\n",
    "pd.DataFrame(beer_score.index[0:3])"
   ]
  }
 ],
 "metadata": {
  "kernelspec": {
   "display_name": "base",
   "language": "python",
   "name": "python3"
  },
  "language_info": {
   "codemirror_mode": {
    "name": "ipython",
    "version": 3
   },
   "file_extension": ".py",
   "mimetype": "text/x-python",
   "name": "python",
   "nbconvert_exporter": "python",
   "pygments_lexer": "ipython3",
   "version": "3.12.2"
  }
 },
 "nbformat": 4,
 "nbformat_minor": 2
}
