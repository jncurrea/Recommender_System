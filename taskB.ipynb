{
 "cells": [
  {
   "cell_type": "code",
   "execution_count": 1,
   "id": "b6a09b92-61e6-4e34-8d81-6e7b706c3718",
   "metadata": {},
   "outputs": [
    {
     "data": {
      "text/html": [
       "<div>\n",
       "<style scoped>\n",
       "    .dataframe tbody tr th:only-of-type {\n",
       "        vertical-align: middle;\n",
       "    }\n",
       "\n",
       "    .dataframe tbody tr th {\n",
       "        vertical-align: top;\n",
       "    }\n",
       "\n",
       "    .dataframe thead th {\n",
       "        text-align: right;\n",
       "    }\n",
       "</style>\n",
       "<table border=\"1\" class=\"dataframe\">\n",
       "  <thead>\n",
       "    <tr style=\"text-align: right;\">\n",
       "      <th></th>\n",
       "      <th>Beer Name</th>\n",
       "      <th>URL</th>\n",
       "      <th>Rating</th>\n",
       "      <th>Review</th>\n",
       "      <th>rating</th>\n",
       "      <th>message</th>\n",
       "      <th>translated messages</th>\n",
       "      <th>cleaned messages</th>\n",
       "    </tr>\n",
       "  </thead>\n",
       "  <tbody>\n",
       "    <tr>\n",
       "      <th>1</th>\n",
       "      <td>Toppling Goliath Kentucky Brunch🇺🇸Stout - Impe...</td>\n",
       "      <td>https://www.ratebeer.com/beer/toppling-goliath...</td>\n",
       "      <td>NaN</td>\n",
       "      <td>NaN</td>\n",
       "      <td>4.5</td>\n",
       "      <td>Bottle after MBCC 2024. Black colour, malty ar...</td>\n",
       "      <td>Bottle after MBCC 2024. Black colour, malty ar...</td>\n",
       "      <td>bottle after mbcc  black colour malty aroma wi...</td>\n",
       "    </tr>\n",
       "    <tr>\n",
       "      <th>2</th>\n",
       "      <td>Toppling Goliath Kentucky Brunch🇺🇸Stout - Impe...</td>\n",
       "      <td>https://www.ratebeer.com/beer/toppling-goliath...</td>\n",
       "      <td>NaN</td>\n",
       "      <td>NaN</td>\n",
       "      <td>4.3</td>\n",
       "      <td>Thank you for sharing this Chris - Black with ...</td>\n",
       "      <td>This was real good</td>\n",
       "      <td>this was real good</td>\n",
       "    </tr>\n",
       "    <tr>\n",
       "      <th>3</th>\n",
       "      <td>Toppling Goliath Kentucky Brunch🇺🇸Stout - Impe...</td>\n",
       "      <td>https://www.ratebeer.com/beer/toppling-goliath...</td>\n",
       "      <td>NaN</td>\n",
       "      <td>NaN</td>\n",
       "      <td>4.7</td>\n",
       "      <td>Boxed beer at home, proper glassware. Pitch bl...</td>\n",
       "      <td>Boxed beer at home, proper glassware. Pitch bl...</td>\n",
       "      <td>boxed beer at home proper glassware pitch blac...</td>\n",
       "    </tr>\n",
       "    <tr>\n",
       "      <th>4</th>\n",
       "      <td>Toppling Goliath Kentucky Brunch🇺🇸Stout - Impe...</td>\n",
       "      <td>https://www.ratebeer.com/beer/toppling-goliath...</td>\n",
       "      <td>NaN</td>\n",
       "      <td>NaN</td>\n",
       "      <td>4.9</td>\n",
       "      <td>From backlog. (As 2018 Vintage) 0,3 litre Bott...</td>\n",
       "      <td>From backlog. (As 2018 Vintage) 0,3 litre Bott...</td>\n",
       "      <td>from backlog as  vintage  litre bottle from a ...</td>\n",
       "    </tr>\n",
       "    <tr>\n",
       "      <th>5</th>\n",
       "      <td>Närke Kaggen Stormaktsporter🇸🇪Stout - Imperial</td>\n",
       "      <td>https://www.ratebeer.com/beer/naerke-kaggen-st...</td>\n",
       "      <td>NaN</td>\n",
       "      <td>NaN</td>\n",
       "      <td>4.2</td>\n",
       "      <td>Borefts 2024. A black beer with a beige lacing...</td>\n",
       "      <td>Borefts 2024. A black beer with a beige lacing...</td>\n",
       "      <td>borefts  a black beer with a beige lacing arom...</td>\n",
       "    </tr>\n",
       "  </tbody>\n",
       "</table>\n",
       "</div>"
      ],
      "text/plain": [
       "                                           Beer Name  \\\n",
       "1  Toppling Goliath Kentucky Brunch🇺🇸Stout - Impe...   \n",
       "2  Toppling Goliath Kentucky Brunch🇺🇸Stout - Impe...   \n",
       "3  Toppling Goliath Kentucky Brunch🇺🇸Stout - Impe...   \n",
       "4  Toppling Goliath Kentucky Brunch🇺🇸Stout - Impe...   \n",
       "5     Närke Kaggen Stormaktsporter🇸🇪Stout - Imperial   \n",
       "\n",
       "                                                 URL  Rating  Review  rating  \\\n",
       "1  https://www.ratebeer.com/beer/toppling-goliath...     NaN     NaN     4.5   \n",
       "2  https://www.ratebeer.com/beer/toppling-goliath...     NaN     NaN     4.3   \n",
       "3  https://www.ratebeer.com/beer/toppling-goliath...     NaN     NaN     4.7   \n",
       "4  https://www.ratebeer.com/beer/toppling-goliath...     NaN     NaN     4.9   \n",
       "5  https://www.ratebeer.com/beer/naerke-kaggen-st...     NaN     NaN     4.2   \n",
       "\n",
       "                                             message  \\\n",
       "1  Bottle after MBCC 2024. Black colour, malty ar...   \n",
       "2  Thank you for sharing this Chris - Black with ...   \n",
       "3  Boxed beer at home, proper glassware. Pitch bl...   \n",
       "4  From backlog. (As 2018 Vintage) 0,3 litre Bott...   \n",
       "5  Borefts 2024. A black beer with a beige lacing...   \n",
       "\n",
       "                                 translated messages  \\\n",
       "1  Bottle after MBCC 2024. Black colour, malty ar...   \n",
       "2                                 This was real good   \n",
       "3  Boxed beer at home, proper glassware. Pitch bl...   \n",
       "4  From backlog. (As 2018 Vintage) 0,3 litre Bott...   \n",
       "5  Borefts 2024. A black beer with a beige lacing...   \n",
       "\n",
       "                                    cleaned messages  \n",
       "1  bottle after mbcc  black colour malty aroma wi...  \n",
       "2                                 this was real good  \n",
       "3  boxed beer at home proper glassware pitch blac...  \n",
       "4  from backlog as  vintage  litre bottle from a ...  \n",
       "5  borefts  a black beer with a beige lacing arom...  "
      ]
     },
     "execution_count": 1,
     "metadata": {},
     "output_type": "execute_result"
    }
   ],
   "source": [
    "#imports & load data\n",
    "import pandas as pd\n",
    "import re\n",
    "from sklearn.feature_extraction.text import CountVectorizer\n",
    "from collections import Counter\n",
    "from itertools import combinations\n",
    "import warnings\n",
    "warnings.filterwarnings('ignore')\n",
    "\n",
    "data = pd.read_csv('0.translated_test.csv')\n",
    "\n",
    "#drop spam reviews\n",
    "df = data[data['translated messages'] != 'SPAM']\n",
    "\n",
    "#clean message col; make lowercase, remove special chars + numbers\n",
    "df['cleaned messages'] = df['translated messages'].apply(lambda x: re.sub(r'[^a-zA-Z\\s]', '', x.lower()) if isinstance(x, str) else '')\n",
    "df.head()"
   ]
  },
  {
   "cell_type": "code",
   "execution_count": 2,
   "id": "0459edd3-bc09-4a44-afa2-9075e3a88616",
   "metadata": {},
   "outputs": [
    {
     "name": "stdout",
     "output_type": "stream",
     "text": [
      "Top 10 Words by Frequency:\n"
     ]
    },
    {
     "data": {
      "text/plain": [
       "[('black', 9),\n",
       " ('dark', 8),\n",
       " ('taste', 8),\n",
       " ('beer', 7),\n",
       " ('bottle', 7),\n",
       " ('chocolate', 7),\n",
       " ('aroma', 6),\n",
       " ('bourbon', 6),\n",
       " ('coffee', 6),\n",
       " ('honey', 6)]"
      ]
     },
     "execution_count": 2,
     "metadata": {},
     "output_type": "execute_result"
    }
   ],
   "source": [
    "#word freq analysis\n",
    "#countVectorizer to get word freq counts\n",
    "vectorizer = CountVectorizer(stop_words='english')\n",
    "\n",
    "#fit + transform cleaned messages to get term-document matrix\n",
    "X = vectorizer.fit_transform(df['cleaned messages'])\n",
    "\n",
    "#sum of counts for each word\n",
    "word_counts = X.sum(axis=0).tolist()[0]\n",
    "word_freq = dict(zip(vectorizer.get_feature_names_out(), word_counts))\n",
    "\n",
    "#top 10\n",
    "top_words = Counter(word_freq).most_common(10)\n",
    "print('Top 10 Words by Frequency:')\n",
    "top_words"
   ]
  },
  {
   "cell_type": "code",
   "execution_count": 3,
   "id": "ca220c43-e47f-4f5e-a0f8-fcca35f87625",
   "metadata": {},
   "outputs": [
    {
     "name": "stdout",
     "output_type": "stream",
     "text": [
      "Top 5 Attributes:\n"
     ]
    },
    {
     "data": {
      "text/plain": [
       "['black', 'dark', 'taste', 'beer', 'bottle']"
      ]
     },
     "execution_count": 3,
     "metadata": {},
     "output_type": "execute_result"
    }
   ],
   "source": [
    "#select top 5 most freq mentioned words as attributes\n",
    "top_attributes = [word for word, count in Counter(word_freq).most_common(5)]\n",
    "print('Top 5 Attributes:')\n",
    "top_attributes #obviously we'll have to look through the real file to get true attributes instead of random top words"
   ]
  },
  {
   "cell_type": "code",
   "execution_count": 4,
   "id": "d5420e42-b418-4282-b33d-0201e078df06",
   "metadata": {},
   "outputs": [
    {
     "name": "stdout",
     "output_type": "stream",
     "text": [
      "Lift Matrix:\n"
     ]
    },
    {
     "data": {
      "text/html": [
       "<div>\n",
       "<style scoped>\n",
       "    .dataframe tbody tr th:only-of-type {\n",
       "        vertical-align: middle;\n",
       "    }\n",
       "\n",
       "    .dataframe tbody tr th {\n",
       "        vertical-align: top;\n",
       "    }\n",
       "\n",
       "    .dataframe thead th {\n",
       "        text-align: right;\n",
       "    }\n",
       "</style>\n",
       "<table border=\"1\" class=\"dataframe\">\n",
       "  <thead>\n",
       "    <tr style=\"text-align: right;\">\n",
       "      <th></th>\n",
       "      <th>black</th>\n",
       "      <th>dark</th>\n",
       "      <th>taste</th>\n",
       "      <th>beer</th>\n",
       "      <th>bottle</th>\n",
       "    </tr>\n",
       "  </thead>\n",
       "  <tbody>\n",
       "    <tr>\n",
       "      <th>black</th>\n",
       "      <td>0.0</td>\n",
       "      <td>0.9</td>\n",
       "      <td>1.285714</td>\n",
       "      <td>1.500000</td>\n",
       "      <td>1.071429</td>\n",
       "    </tr>\n",
       "    <tr>\n",
       "      <th>dark</th>\n",
       "      <td>0.0</td>\n",
       "      <td>0.0</td>\n",
       "      <td>1.371429</td>\n",
       "      <td>1.200000</td>\n",
       "      <td>1.371429</td>\n",
       "    </tr>\n",
       "    <tr>\n",
       "      <th>taste</th>\n",
       "      <td>0.0</td>\n",
       "      <td>0.0</td>\n",
       "      <td>0.000000</td>\n",
       "      <td>1.714286</td>\n",
       "      <td>1.224490</td>\n",
       "    </tr>\n",
       "    <tr>\n",
       "      <th>beer</th>\n",
       "      <td>0.0</td>\n",
       "      <td>0.0</td>\n",
       "      <td>0.000000</td>\n",
       "      <td>0.000000</td>\n",
       "      <td>0.857143</td>\n",
       "    </tr>\n",
       "    <tr>\n",
       "      <th>bottle</th>\n",
       "      <td>0.0</td>\n",
       "      <td>0.0</td>\n",
       "      <td>0.000000</td>\n",
       "      <td>0.000000</td>\n",
       "      <td>0.000000</td>\n",
       "    </tr>\n",
       "  </tbody>\n",
       "</table>\n",
       "</div>"
      ],
      "text/plain": [
       "        black  dark     taste      beer    bottle\n",
       "black     0.0   0.9  1.285714  1.500000  1.071429\n",
       "dark      0.0   0.0  1.371429  1.200000  1.371429\n",
       "taste     0.0   0.0  0.000000  1.714286  1.224490\n",
       "beer      0.0   0.0  0.000000  0.000000  0.857143\n",
       "bottle    0.0   0.0  0.000000  0.000000  0.000000"
      ]
     },
     "execution_count": 4,
     "metadata": {},
     "output_type": "execute_result"
    }
   ],
   "source": [
    "#lift analysis\n",
    "\n",
    "#get cleaned messages + attributes from word freq\n",
    "input_file = df['cleaned messages'].apply(lambda x: x.split() if isinstance(x, str) else [])\n",
    "all_items = top_attributes\n",
    "\n",
    "#init counters\n",
    "total_posts = len(input_file)\n",
    "attribute_counts = {item: 0 for item in all_items}\n",
    "co_occurrences = {pair: 0 for pair in combinations(all_items, 2)}\n",
    "\n",
    "#count occurrences + co-occurrences\n",
    "for tokens in input_file:\n",
    "    if isinstance(tokens, list):  #checks that tokens are in a list\n",
    "        #individual occurrences\n",
    "        unique_tokens = set(tokens)  #avoid double counting in same post\n",
    "        for token in unique_tokens:\n",
    "            if token in attribute_counts:\n",
    "                attribute_counts[token] += 1\n",
    "                \n",
    "        #co-occurrences for attribute pairs\n",
    "        for attr_a, attr_b in combinations(top_attributes, 2):\n",
    "            if attr_a in unique_tokens and attr_b in unique_tokens:\n",
    "                co_occurrences[(attr_a, attr_b)] += 1\n",
    "\n",
    "#init lift matrix df\n",
    "lift_matrix = pd.DataFrame(0.0, index=all_items, columns=all_items)\n",
    "\n",
    "#calc lift for each pair\n",
    "for pair, co_count in co_occurrences.items():\n",
    "    attr_a, attr_b = pair\n",
    "    p_a = attribute_counts[attr_a] / total_posts\n",
    "    p_b = attribute_counts[attr_b] / total_posts\n",
    "    p_a_and_b = co_count / total_posts\n",
    "\n",
    "    if p_a > 0 and p_b > 0: #avoid division by zero\n",
    "        lift = p_a_and_b / (p_a * p_b)\n",
    "        if lift_matrix.index.get_loc(attr_a) < lift_matrix.index.get_loc(attr_b):\n",
    "            lift_matrix.at[attr_a, attr_b] = lift\n",
    "\n",
    "lift_matrix = lift_matrix.fillna(0.0)\n",
    "\n",
    "#actual lift matrix\n",
    "print('Lift Matrix:')\n",
    "lift_matrix"
   ]
  },
  {
   "cell_type": "code",
   "execution_count": 5,
   "id": "69b2fc48-a214-4387-9de5-370b015a8994",
   "metadata": {},
   "outputs": [
    {
     "data": {
      "text/plain": [
       "{('black', 'dark'): 0.8999999999999999,\n",
       " ('black', 'taste'): 1.2857142857142856,\n",
       " ('black', 'beer'): 1.5,\n",
       " ('black', 'bottle'): 1.0714285714285714,\n",
       " ('dark', 'taste'): 1.3714285714285712,\n",
       " ('dark', 'beer'): 1.2,\n",
       " ('dark', 'bottle'): 1.3714285714285712,\n",
       " ('taste', 'beer'): 1.7142857142857142,\n",
       " ('taste', 'bottle'): 1.2244897959183672,\n",
       " ('beer', 'bottle'): 0.8571428571428571}"
      ]
     },
     "execution_count": 5,
     "metadata": {},
     "output_type": "execute_result"
    }
   ],
   "source": [
    "#in case you wanted to see the lift values dict\n",
    "{pair: (co_occurrences[pair] / total_posts) / ((attribute_counts[pair[0]] / total_posts) * (attribute_counts[pair[1]] / total_posts)) for pair in co_occurrences}"
   ]
  }
 ],
 "metadata": {
  "kernelspec": {
   "display_name": "Python 3 (ipykernel)",
   "language": "python",
   "name": "python3"
  },
  "language_info": {
   "codemirror_mode": {
    "name": "ipython",
    "version": 3
   },
   "file_extension": ".py",
   "mimetype": "text/x-python",
   "name": "python",
   "nbconvert_exporter": "python",
   "pygments_lexer": "ipython3",
   "version": "3.12.4"
  }
 },
 "nbformat": 4,
 "nbformat_minor": 5
}
