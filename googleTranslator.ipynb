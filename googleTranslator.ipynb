{
 "cells": [
  {
   "cell_type": "code",
   "execution_count": 3,
   "metadata": {},
   "outputs": [],
   "source": [
    "from deep_translator import GoogleTranslator"
   ]
  },
  {
   "cell_type": "code",
   "execution_count": 12,
   "metadata": {},
   "outputs": [
    {
     "name": "stdout",
     "output_type": "stream",
     "text": [
      "Error translating message: There are not hundreds of beers on my bucketlist anymore, throughout the years I have had the pleasure of tasting many of the world's great beers and I am grateful for each and every one of them, but if there is one beer I have been eager to sip for nearly a decade now, it must be this one: Toppling Goliath's Kentucky Brunch Brand Stout, or KBBS as it is sometimes abbreviated.  A coffee stout aged for over a year in bourbon barrels, it was first released in 2012, but the story goes that at that time, only six people showed up - after which founder Carl Lewey stopped selling it and kept the rest of the batch for private consumption.  I guess he must have known already back then that he was onto something, as the buzz around this beer began to grow and it quickly became one of those modern whales every beer lover in the world wants to taste at least once.  In 2015, KBBS reached number one in the list of top beers on this very website, stoking the hype even further; nine years later, it still holds that same enviable position, as it does on BeerAdvocate (as well as second place - though only recently - on Untappd and Brewver).  It goes without saying that I am very happy to be able to finally taste it today on my birthday, from a 2022 vintage bottle (numbered 1679) just over a year old - and of course I know that a beer like this will probably only improve in coming years, but I just could not resist having it in my collection any longer...  Builds up a light brown, mocha ice-coloured, minute-bubbled and therefore densely creamy head of medium thickness, slowly receding and opening yet retaining well around the edge, with some dots of lacing here and there, over a pitch black beer.  The bouquet is intense - and indeed overwhelmingly beautiful, one sniff already managed to convince me instantly of the whole hype around it: top quality Swiss chocolate, chocolate ganache, top class real maple syrup, the finest Colombian coffee, warm bourbon of some high-end brand, vanillin-breathing oak wood and a lot of it (I love it), homemade coffee brownies, Alicante nougat, armagnac, fudge, expensive Belgian chocolates, crème au caramel, artisanal mocha ice cream, coffee liqueur, more dark bitter chocolate underneath and then all kinds of subtle hints ticking all the boxes of a high-level U.S. style 'impy' varying between almond, roasted pecan nuts, cinnamon, fresh bayleaf, pipe tobacco, fresh fig and even more fruitiness warming up (blackcurrant) but then making room again for wet leather, walnut oil, charcoal briefly showing up only to vanish again in seconds, haemoglobin, rum-soaked raisins, date jam, a very vague minerally touch (clay) - before all that dark chocolate, coffee, bourbon and oak return, all intertwined into one monolithic, perfectly aligned and beguiling 'block' of aroma.  In the mouth, the most noble and refined sweetness unfolds, date jam, candied cherries, golden raisins - in a very dense, concentrated manner, with very slight sourish and umami notes here and there, but too subtle to describe; mouthfeel and carbonation are absolutely perfect for this style of beer, rich, velvety, viscously thick yet still oily-smooth, heavily yet supply gliding down the tongue, leaving behind thick layers of fine dark chocolate, toffee, nougat, almond and hazelnut paste, with both the coffee and roasted malts providing bitterness balancing out the sweetness.  An overall bittersweetness fills the mouth in a most complex way, releasing accents of amaretto, bayleaf, cinnamon, light sweet pipe tobacco and, much lighter still, even 'blood' or the juice oozing out of a medium rare steak - all of which matches perfectly without even the slightest sign of a false note, and all of which is enveloped in a noble oaky woodiness (think vanilla and actual wood flavours) and, of course, a long, warming, soothing bourbon bittersweetness, bourbon of high quality in this case, with armagnac- and walnut liqueur-like features.  The finish goes on and on, warming on a cold January night, but more importantly, providing an extended enjoyment of this formidable brew which seems to last forever.  Hops are present 'behind the scenes', with spicy and even very faintly citrus peel-ish details that all contribute to the vast and massive landscape of flavours.  The coffee returns every now and then retronasally, in a most sophisticated way.  This is one to enjoy very slowly and over a very long period of time: as the temperatures shift, one shade of beauty is replaced by another.  This is the one beer I spent the most money on in my twenty-five years of tasting beer in a serious way, but I have no regrets - on the contrary, I am filled with joy and gratitude that after such a long time, this most coveted of the world's craft beers (or one of the most coveted at least) finally reached me.  The number of bottles released each year seems to have grown in past iterations, probably since Toppling Goliath extended their production capacity with a new brewing installment in 2018, so who knows, maybe one day this gem will become a bit more widely available, and when that happens, I will be happy to pay for a second one.  As for now, I suppose I could consider selling the empty bottle, as I noticed one being auctioned in the States for no less than a hundred dollars...  Anyway, to conclude this long journey through this awe-inspiring brew: I think scoring becomes a bit meaningless in the light of not only this beer's inherent perfection and majestic beauty, but also in its consistent high scores in the decade in which it has been in existence.  Additionally, I cannot find anything I do not like here, not even after examining it with a microscope, so to speak, so here you go: the perfect score, mostly symbolically because American style imperial stout really does not get much better than this, at least not in what I have tasted so far.\n",
      "There are not hundreds of beers on my bucketlist anymore, throughout the years I have had the pleasure of tasting many of the world's great beers and I am grateful for each and every one of them, but if there is one beer I have been eager to sip for nearly a decade now, it must be this one: Toppling Goliath's Kentucky Brunch Brand Stout, or KBBS as it is sometimes abbreviated.  A coffee stout aged for over a year in bourbon barrels, it was first released in 2012, but the story goes that at that time, only six people showed up - after which founder Carl Lewey stopped selling it and kept the rest of the batch for private consumption.  I guess he must have known already back then that he was onto something, as the buzz around this beer began to grow and it quickly became one of those modern whales every beer lover in the world wants to taste at least once.  In 2015, KBBS reached number one in the list of top beers on this very website, stoking the hype even further; nine years later, it still holds that same enviable position, as it does on BeerAdvocate (as well as second place - though only recently - on Untappd and Brewver).  It goes without saying that I am very happy to be able to finally taste it today on my birthday, from a 2022 vintage bottle (numbered 1679) just over a year old - and of course I know that a beer like this will probably only improve in coming years, but I just could not resist having it in my collection any longer...  Builds up a light brown, mocha ice-coloured, minute-bubbled and therefore densely creamy head of medium thickness, slowly receding and opening yet retaining well around the edge, with some dots of lacing here and there, over a pitch black beer.  The bouquet is intense - and indeed overwhelmingly beautiful, one sniff already managed to convince me instantly of the whole hype around it: top quality Swiss chocolate, chocolate ganache, top class real maple syrup, the finest Colombian coffee, warm bourbon of some high-end brand, vanillin-breathing oak wood and a lot of it (I love it), homemade coffee brownies, Alicante nougat, armagnac, fudge, expensive Belgian chocolates, crème au caramel, artisanal mocha ice cream, coffee liqueur, more dark bitter chocolate underneath and then all kinds of subtle hints ticking all the boxes of a high-level U.S. style 'impy' varying between almond, roasted pecan nuts, cinnamon, fresh bayleaf, pipe tobacco, fresh fig and even more fruitiness warming up (blackcurrant) but then making room again for wet leather, walnut oil, charcoal briefly showing up only to vanish again in seconds, haemoglobin, rum-soaked raisins, date jam, a very vague minerally touch (clay) - before all that dark chocolate, coffee, bourbon and oak return, all intertwined into one monolithic, perfectly aligned and beguiling 'block' of aroma.  In the mouth, the most noble and refined sweetness unfolds, date jam, candied cherries, golden raisins - in a very dense, concentrated manner, with very slight sourish and umami notes here and there, but too subtle to describe; mouthfeel and carbonation are absolutely perfect for this style of beer, rich, velvety, viscously thick yet still oily-smooth, heavily yet supply gliding down the tongue, leaving behind thick layers of fine dark chocolate, toffee, nougat, almond and hazelnut paste, with both the coffee and roasted malts providing bitterness balancing out the sweetness.  An overall bittersweetness fills the mouth in a most complex way, releasing accents of amaretto, bayleaf, cinnamon, light sweet pipe tobacco and, much lighter still, even 'blood' or the juice oozing out of a medium rare steak - all of which matches perfectly without even the slightest sign of a false note, and all of which is enveloped in a noble oaky woodiness (think vanilla and actual wood flavours) and, of course, a long, warming, soothing bourbon bittersweetness, bourbon of high quality in this case, with armagnac- and walnut liqueur-like features.  The finish goes on and on, warming on a cold January night, but more importantly, providing an extended enjoyment of this formidable brew which seems to last forever.  Hops are present 'behind the scenes', with spicy and even very faintly citrus peel-ish details that all contribute to the vast and massive landscape of flavours.  The coffee returns every now and then retronasally, in a most sophisticated way.  This is one to enjoy very slowly and over a very long period of time: as the temperatures shift, one shade of beauty is replaced by another.  This is the one beer I spent the most money on in my twenty-five years of tasting beer in a serious way, but I have no regrets - on the contrary, I am filled with joy and gratitude that after such a long time, this most coveted of the world's craft beers (or one of the most coveted at least) finally reached me.  The number of bottles released each year seems to have grown in past iterations, probably since Toppling Goliath extended their production capacity with a new brewing installment in 2018, so who knows, maybe one day this gem will become a bit more widely available, and when that happens, I will be happy to pay for a second one.  As for now, I suppose I could consider selling the empty bottle, as I noticed one being auctioned in the States for no less than a hundred dollars...  Anyway, to conclude this long journey through this awe-inspiring brew: I think scoring becomes a bit meaningless in the light of not only this beer's inherent perfection and majestic beauty, but also in its consistent high scores in the decade in which it has been in existence.  Additionally, I cannot find anything I do not like here, not even after examining it with a microscope, so to speak, so here you go: the perfect score, mostly symbolically because American style imperial stout really does not get much better than this, at least not in what I have tasted so far. --> Text length need to be between 0 and 5000 characters\n",
      "Translated messages have been saved to translated_messages.csv\n"
     ]
    }
   ],
   "source": [
    "# Initialize the GoogleTranslator (Detects source language automatically and translates to English)\n",
    "translator = GoogleTranslator(source='auto', target='en')\n",
    "\n",
    "# Input and output CSV file paths\n",
    "csv_file = 'beer_reviews.csv'\n",
    "output_file = 'translated_messages.csv'\n",
    "\n",
    "# Read the CSV file using pandas\n",
    "df = pd.read_csv(csv_file)\n",
    "\n",
    "# Function to process each message using GoogleTranslator\n",
    "def process_message(message):\n",
    "    try:\n",
    "        # Translate the message using Google\n",
    "        translated_message = translator.translate(message)\n",
    "    except Exception as e:\n",
    "        # If there's an issue with translation, return the original message or handle the error\n",
    "        print(f\"Error translating message: {message}\\n{e}\")\n",
    "        translated_message = message  # You can handle it differently if you prefer\n",
    "    return translated_message\n",
    "\n",
    "# Apply the translation function to each message and create a new column\n",
    "df['translated_messages'] = df['message'].apply(process_message)  # Replace 'message_column' with the actual column name\n",
    "\n",
    "# Save the updated DataFrame with translated messages to a new CSV file\n",
    "df.to_csv(output_file, index=False)\n",
    "\n",
    "print(f\"Translated messages have been saved to {output_file}\")\n"
   ]
  }
 ],
 "metadata": {
  "kernelspec": {
   "display_name": "base",
   "language": "python",
   "name": "python3"
  },
  "language_info": {
   "codemirror_mode": {
    "name": "ipython",
    "version": 3
   },
   "file_extension": ".py",
   "mimetype": "text/x-python",
   "name": "python",
   "nbconvert_exporter": "python",
   "pygments_lexer": "ipython3",
   "version": "3.12.2"
  }
 },
 "nbformat": 4,
 "nbformat_minor": 2
}
