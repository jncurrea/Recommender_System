{
 "cells": [
  {
   "cell_type": "code",
   "execution_count": 21,
   "metadata": {},
   "outputs": [
    {
     "name": "stdout",
     "output_type": "stream",
     "text": [
      "Translated messages have been saved to translated_messages.csv\n"
     ]
    }
   ],
   "source": [
    "import csv\n",
    "import json\n",
    "import os\n",
    "from predictionguard import PredictionGuard\n",
    "\n",
    "# Set your API key\n",
    "api_key = os.getenv(\"PREDICTIONGUARD_API_KEY\", \"Oq62vYfSJRwjnFQcUnJy5PM3SRVejYtJCXWSxnfv\")\n",
    "\n",
    "# Initialize the PredictionGuard client\n",
    "client = PredictionGuard(api_key=api_key)\n",
    "\n",
    "# System content for the chatbot behavior based on your refined prompt\n",
    "system_message = {\n",
    "    \"role\": \"system\",\n",
    "    \"content\": (\n",
    "        \"You are a language identification and translation system. Your task is to process a message and return it in the following way:\\n\"\n",
    "        \"1. If the message is entirely in English, return the message exactly as is.\\n\"\n",
    "        \"2. If the message is in both English and another language:\\n\"\n",
    "        \"    - If the foreign language part is a direct translation of the English text, return only the English.\\n\"\n",
    "        \"    - If the foreign language contains information that is not a direct translation, translate the entire message to English and return it.\\n\"\n",
    "        \"3. If the message is entirely in a foreign language, translate it into English and return it.\\n\"\n",
    "        \"4. If a message seems to be unrelated to reviews, is spam, or contains malicious content, output SPAM\\n\"\n",
    "        \"Do not provide any explanations or contextual information. Only return the final processed message.\"\n",
    "    )\n",
    "}\n",
    "\n",
    "# Input and output CSV file paths\n",
    "csv_file = 'test_file.csv'\n",
    "output_file = 'translated_messages.csv'\n",
    "\n",
    "# Read the CSV file with the messages and store rows\n",
    "rows = []\n",
    "with open(csv_file, newline='', encoding='utf-8') as file:\n",
    "    reader = csv.reader(file)\n",
    "    \n",
    "    # Get the header and add a new column \"translated messages\"\n",
    "    header = next(reader)\n",
    "    header.append(\"translated messages\")\n",
    "    \n",
    "    for row in reader:\n",
    "        # Assuming the message is in the first column\n",
    "        user_message = row[5]\n",
    "\n",
    "        # Prepare the messages list for the chatbot\n",
    "        messages = [\n",
    "            system_message,\n",
    "            {\n",
    "                \"role\": \"user\",\n",
    "                \"content\": user_message\n",
    "            }\n",
    "        ]\n",
    "\n",
    "        # Send the message to the PredictionGuard API\n",
    "        result = client.chat.completions.create(\n",
    "            model=\"Hermes-3-Llama-3.1-8B\",\n",
    "            messages=messages\n",
    "        )\n",
    "\n",
    "        # Extract the chatbot's response\n",
    "        response = result['choices'][0]['message']['content']\n",
    "\n",
    "        # Append the translated message to the current row\n",
    "        row.append(response)\n",
    "        \n",
    "        # Add the row to the list of rows\n",
    "        rows.append(row)\n",
    "\n",
    "# Write the updated data (with translated messages) back to a new CSV file\n",
    "with open(output_file, mode='w', newline='', encoding='utf-8') as file:\n",
    "    writer = csv.writer(file)\n",
    "    \n",
    "    # Write the header\n",
    "    writer.writerow(header)\n",
    "    \n",
    "    # Write the updated rows\n",
    "    writer.writerows(rows)\n",
    "\n",
    "print(f\"Translated messages have been saved to {output_file}\")\n"
   ]
  }
 ],
 "metadata": {
  "kernelspec": {
   "display_name": "base",
   "language": "python",
   "name": "python3"
  },
  "language_info": {
   "codemirror_mode": {
    "name": "ipython",
    "version": 3
   },
   "file_extension": ".py",
   "mimetype": "text/x-python",
   "name": "python",
   "nbconvert_exporter": "python",
   "pygments_lexer": "ipython3",
   "version": "3.12.2"
  }
 },
 "nbformat": 4,
 "nbformat_minor": 2
}
