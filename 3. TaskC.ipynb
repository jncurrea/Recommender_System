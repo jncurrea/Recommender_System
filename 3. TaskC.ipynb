{
 "cells": [
  {
   "cell_type": "code",
   "execution_count": 24,
   "metadata": {},
   "outputs": [],
   "source": [
    "import pandas as pd\n",
    "from sklearn.feature_extraction.text import CountVectorizer, TfidfVectorizer\n",
    "import numpy as np\n",
    "from sklearn.metrics.pairwise import cosine_similarity"
   ]
  },
  {
   "cell_type": "code",
   "execution_count": 4,
   "metadata": {},
   "outputs": [],
   "source": [
    "# Input File Name\n",
    "inputfile = 'translated_messages.csv'\n",
    "\n",
    "# Translated Column Messages\n",
    "messagecolumn = 'translated_messages'\n",
    "\n",
    "# Import Data\n",
    "data = pd.read_csv(inputfile)\n",
    "data = data.drop(['Rating', 'Review'], axis = 1)\n",
    "\n",
    "# Output File \n",
    "outputfile = 'CDE.bagofwords.csv'"
   ]
  },
  {
   "cell_type": "code",
   "execution_count": 5,
   "metadata": {},
   "outputs": [],
   "source": [
    "# User Attributes\n",
    "userattributes = ['thick', 'rich', 'bodied']"
   ]
  },
  {
   "cell_type": "code",
   "execution_count": 28,
   "metadata": {},
   "outputs": [],
   "source": [
    "# Initializing Dataframe\n",
    "bagofwords = pd.DataFrame()\n",
    "bagofwords['Product Name'] = data['Beer Name']\n",
    "bagofwords['Product Review'] = data['translated_messages']\n",
    "\n",
    "\n",
    "# Joining the Attributes\n",
    "text1 = ' '.join(userattributes)\n",
    "\n",
    "# Initializing the Lists\n",
    "similarity_scores = []\n",
    "similarity_scorestfidf = []\n",
    "\n",
    "# Calculating Similarity\n",
    "for text2 in data[messagecolumn]:\n",
    "    documents =[text1, text2]\n",
    "    \n",
    "    # Non-Normalized\n",
    "    count_vectorizer = CountVectorizer(stop_words='english')\n",
    "    sparse_matrix = count_vectorizer.fit_transform(documents)\n",
    "    doc_term_matrix = sparse_matrix.todense()\n",
    "    df = pd.DataFrame(doc_term_matrix,\n",
    "        columns=count_vectorizer.get_feature_names_out(),\n",
    "        index=['x', 'y'])\n",
    "    similarity_scores.append(cosine_similarity(df, df)[0,1])\n",
    "\n",
    "    # Normalized\n",
    "    tfidf_vectorizer = TfidfVectorizer(stop_words = 'english')\n",
    "    sparse_matrixtfidf = tfidf_vectorizer.fit_transform(documents)\n",
    "    doc_term_matrixtfidf = sparse_matrixtfidf.todense()\n",
    "    dftfidf = pd.DataFrame(doc_term_matrixtfidf, \n",
    "        columns = tfidf_vectorizer.get_feature_names_out(),\n",
    "        index = ['x', 'y'])\n",
    "    similarity_scorestfidf.append(cosine_similarity(dftfidf, dftfidf)[0,1])\n",
    "\n",
    "# Saving to Dataframe\n",
    "bagofwords['Cosine Similarity'] = similarity_scores\n",
    "bagofwords['Cosine Similarity TFIDF'] = similarity_scorestfidf"
   ]
  },
  {
   "cell_type": "code",
   "execution_count": 27,
   "metadata": {},
   "outputs": [],
   "source": [
    "# Outputting CSV\n",
    "bagofwords.to_csv(outputfile)"
   ]
  }
 ],
 "metadata": {
  "kernelspec": {
   "display_name": "base",
   "language": "python",
   "name": "python3"
  },
  "language_info": {
   "codemirror_mode": {
    "name": "ipython",
    "version": 3
   },
   "file_extension": ".py",
   "mimetype": "text/x-python",
   "name": "python",
   "nbconvert_exporter": "python",
   "pygments_lexer": "ipython3",
   "version": "3.12.2"
  }
 },
 "nbformat": 4,
 "nbformat_minor": 2
}
