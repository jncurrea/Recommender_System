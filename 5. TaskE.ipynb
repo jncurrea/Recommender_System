{
 "cells": [
  {
   "cell_type": "code",
   "execution_count": 17,
   "metadata": {},
   "outputs": [],
   "source": [
    "import pandas as pd"
   ]
  },
  {
   "cell_type": "code",
   "execution_count": 4,
   "metadata": {},
   "outputs": [],
   "source": [
    "# Input File\n",
    "inputfile = 'CDE.bagofwords.csv'\n",
    "\n",
    "# Output File\n",
    "outputfile = 'CDE.bagofwords.csv'"
   ]
  },
  {
   "cell_type": "code",
   "execution_count": 5,
   "metadata": {},
   "outputs": [],
   "source": [
    "# Calculate Evaluation Score Function\n",
    "def evaluation(cosine_sim, sentiment):\n",
    "    try:\n",
    "        norm_sentiment = (float(sentiment) + 1) / 2\n",
    "        return ((cosine_sim * 0.8) + (norm_sentiment * 0.2))\n",
    "    except Exception as e:\n",
    "        return(0)"
   ]
  },
  {
   "cell_type": "code",
   "execution_count": 6,
   "metadata": {},
   "outputs": [],
   "source": [
    "# Import Data\n",
    "data = pd.read_csv(inputfile)\n",
    "cosine_sim = data['Cosine Similarity TFIDF']\n",
    "sentiment = data['Sentiment Scores']"
   ]
  },
  {
   "cell_type": "code",
   "execution_count": 8,
   "metadata": {},
   "outputs": [],
   "source": [
    "data = data.drop(data.columns[0:3], axis=1)"
   ]
  },
  {
   "cell_type": "code",
   "execution_count": 10,
   "metadata": {},
   "outputs": [],
   "source": [
    "# Calculation Evaluation Score\n",
    "evaluation_list = []\n",
    "for i in range(len(data)):\n",
    "    evaluation_list.append(evaluation(cosine_sim[i], sentiment[i]))"
   ]
  },
  {
   "cell_type": "code",
   "execution_count": 11,
   "metadata": {},
   "outputs": [],
   "source": [
    "# Save Evaluation Score \n",
    "data['Evaluation Score'] = evaluation_list"
   ]
  },
  {
   "cell_type": "code",
   "execution_count": 12,
   "metadata": {},
   "outputs": [],
   "source": [
    "# Aggregate Evaluation Scores per Beer\n",
    "beers = data['Product Name'].drop_duplicates()\n",
    "beer_score = data[['Product Name', 'Evaluation Score']].groupby('Product Name').mean('Evaluation Score')\n",
    "beer_score = beer_score.sort_values('Evaluation Score', ascending = False)"
   ]
  },
  {
   "cell_type": "code",
   "execution_count": 15,
   "metadata": {},
   "outputs": [],
   "source": [
    "# Output to CSV\n",
    "data.to_csv(outputfile, index = False)\n",
    "\n",
    "beer_score.to_csv('E.beer_recommendations.csv')"
   ]
  },
  {
   "cell_type": "code",
   "execution_count": 16,
   "metadata": {},
   "outputs": [
    {
     "data": {
      "text/html": [
       "<div>\n",
       "<style scoped>\n",
       "    .dataframe tbody tr th:only-of-type {\n",
       "        vertical-align: middle;\n",
       "    }\n",
       "\n",
       "    .dataframe tbody tr th {\n",
       "        vertical-align: top;\n",
       "    }\n",
       "\n",
       "    .dataframe thead th {\n",
       "        text-align: right;\n",
       "    }\n",
       "</style>\n",
       "<table border=\"1\" class=\"dataframe\">\n",
       "  <thead>\n",
       "    <tr style=\"text-align: right;\">\n",
       "      <th></th>\n",
       "      <th>Product Name</th>\n",
       "    </tr>\n",
       "  </thead>\n",
       "  <tbody>\n",
       "    <tr>\n",
       "      <th>0</th>\n",
       "      <td>Superstition Grand Cru Berry - F.O. Barrel Age...</td>\n",
       "    </tr>\n",
       "    <tr>\n",
       "      <th>1</th>\n",
       "      <td>B. Nektar Ken Schramm Signature Series - The H...</td>\n",
       "    </tr>\n",
       "    <tr>\n",
       "      <th>2</th>\n",
       "      <td>Toppling Goliath SR-71 Blackbird (2015 Bottlin...</td>\n",
       "    </tr>\n",
       "  </tbody>\n",
       "</table>\n",
       "</div>"
      ],
      "text/plain": [
       "                                        Product Name\n",
       "0  Superstition Grand Cru Berry - F.O. Barrel Age...\n",
       "1  B. Nektar Ken Schramm Signature Series - The H...\n",
       "2  Toppling Goliath SR-71 Blackbird (2015 Bottlin..."
      ]
     },
     "execution_count": 16,
     "metadata": {},
     "output_type": "execute_result"
    }
   ],
   "source": [
    "# Recommendation\n",
    "pd.DataFrame(beer_score.index[0:3])"
   ]
  }
 ],
 "metadata": {
  "kernelspec": {
   "display_name": "base",
   "language": "python",
   "name": "python3"
  },
  "language_info": {
   "codemirror_mode": {
    "name": "ipython",
    "version": 3
   },
   "file_extension": ".py",
   "mimetype": "text/x-python",
   "name": "python",
   "nbconvert_exporter": "python",
   "pygments_lexer": "ipython3",
   "version": "3.12.2"
  }
 },
 "nbformat": 4,
 "nbformat_minor": 2
}
